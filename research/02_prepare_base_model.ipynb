{
 "cells": [
  {
   "cell_type": "code",
   "execution_count": 1,
   "metadata": {},
   "outputs": [],
   "source": [
    "import os\n",
    "import sys"
   ]
  },
  {
   "cell_type": "code",
   "execution_count": 2,
   "metadata": {},
   "outputs": [
    {
     "data": {
      "text/plain": [
       "'e:\\\\Projects\\\\MLproject-2_Kidney-Disease-Classification\\\\research'"
      ]
     },
     "execution_count": 2,
     "metadata": {},
     "output_type": "execute_result"
    }
   ],
   "source": [
    "%pwd"
   ]
  },
  {
   "cell_type": "code",
   "execution_count": 3,
   "metadata": {},
   "outputs": [],
   "source": [
    "os.chdir(\"../\")"
   ]
  },
  {
   "cell_type": "code",
   "execution_count": 4,
   "metadata": {},
   "outputs": [
    {
     "data": {
      "text/plain": [
       "'e:\\\\Projects\\\\MLproject-2_Kidney-Disease-Classification'"
      ]
     },
     "execution_count": 4,
     "metadata": {},
     "output_type": "execute_result"
    }
   ],
   "source": [
    "%pwd"
   ]
  },
  {
   "cell_type": "code",
   "execution_count": 5,
   "metadata": {},
   "outputs": [
    {
     "name": "stdout",
     "output_type": "stream",
     "text": [
      "Updated Python Path: ['e:\\\\Projects\\\\MLproject-2_Kidney-Disease-Classification\\\\kidney\\\\python38.zip', 'e:\\\\Projects\\\\MLproject-2_Kidney-Disease-Classification\\\\kidney\\\\DLLs', 'e:\\\\Projects\\\\MLproject-2_Kidney-Disease-Classification\\\\kidney\\\\lib', 'e:\\\\Projects\\\\MLproject-2_Kidney-Disease-Classification\\\\kidney', '', 'e:\\\\Projects\\\\MLproject-2_Kidney-Disease-Classification\\\\kidney\\\\lib\\\\site-packages', 'e:\\\\Projects\\\\MLproject-2_Kidney-Disease-Classification\\\\kidney\\\\lib\\\\site-packages\\\\win32', 'e:\\\\Projects\\\\MLproject-2_Kidney-Disease-Classification\\\\kidney\\\\lib\\\\site-packages\\\\win32\\\\lib', 'e:\\\\Projects\\\\MLproject-2_Kidney-Disease-Classification\\\\kidney\\\\lib\\\\site-packages\\\\Pythonwin', 'e:\\\\Projects\\\\MLproject-2_Kidney-Disease-Classification\\\\kidney\\\\lib\\\\site-packages\\\\setuptools\\\\_vendor', 'E:\\\\Projects\\\\MLproject-2_Kidney-Disease-Classification\\\\src']\n"
     ]
    }
   ],
   "source": [
    "# Add src directory to sys.path\n",
    "sys.path.append(\"E:\\\\Projects\\\\MLproject-2_Kidney-Disease-Classification\\\\src\")\n",
    "\n",
    "# Verify the path is added\n",
    "print(\"Updated Python Path:\", sys.path)"
   ]
  },
  {
   "cell_type": "code",
   "execution_count": 6,
   "metadata": {},
   "outputs": [
    {
     "data": {
      "text/plain": [
       "'e:\\\\Projects\\\\MLproject-2_Kidney-Disease-Classification'"
      ]
     },
     "execution_count": 6,
     "metadata": {},
     "output_type": "execute_result"
    }
   ],
   "source": [
    "%pwd"
   ]
  },
  {
   "cell_type": "code",
   "execution_count": 7,
   "metadata": {},
   "outputs": [
    {
     "name": "stdout",
     "output_type": "stream",
     "text": [
      "['cnnClassifier', 'cnnClassifier.components', 'cnnClassifier.config', 'cnnClassifier.constants', 'cnnClassifier.entity', 'cnnClassifier.pipeline', 'cnnClassifier.utils']\n"
     ]
    }
   ],
   "source": [
    "import setuptools\n",
    "print(setuptools.find_packages(where=\"src\"))"
   ]
  },
  {
   "cell_type": "code",
   "execution_count": 8,
   "metadata": {},
   "outputs": [],
   "source": [
    "from dataclasses import dataclass\n",
    "from pathlib import Path\n",
    "\n",
    "@dataclass(frozen=True)\n",
    "class PrepareBaseModelConfig:\n",
    "    root_dir: Path\n",
    "    base_model_path: Path\n",
    "    updated_base_model_path: Path\n",
    "    params_image_size: list\n",
    "    params_learning_rate: float\n",
    "    params_include_top: bool\n",
    "    params_weights: str\n",
    "    params_classes: int"
   ]
  },
  {
   "cell_type": "code",
   "execution_count": 9,
   "metadata": {},
   "outputs": [],
   "source": [
    "from cnnClassifier.constants import *\n",
    "from cnnClassifier.utils.common import read_yaml, create_directories"
   ]
  },
  {
   "cell_type": "code",
   "execution_count": 10,
   "metadata": {},
   "outputs": [],
   "source": [
    "class ConfigurationManager:\n",
    "    def __init__(\n",
    "        self,\n",
    "        config_filepath = CONFIG_FILE_PATH,\n",
    "        params_filepath = PARAMS_FILE_PATH):\n",
    "\n",
    "        self.config = read_yaml(config_filepath)\n",
    "        self.params = read_yaml(params_filepath)\n",
    "\n",
    "        create_directories([self.config.artifacts_root])\n",
    "\n",
    "    \n",
    "\n",
    "    def get_prepare_base_model_config(self) -> PrepareBaseModelConfig:\n",
    "        config = self.config.prepare_base_model\n",
    "        \n",
    "        create_directories([config.root_dir])\n",
    "\n",
    "        prepare_base_model_config = PrepareBaseModelConfig(\n",
    "            root_dir=Path(config.root_dir),\n",
    "            base_model_path=Path(config.base_model_path),\n",
    "            updated_base_model_path=Path(config.updated_base_model_path),\n",
    "            params_image_size=self.params.IMAGE_SIZE,\n",
    "            params_learning_rate=self.params.LEARNING_RATE,\n",
    "            params_include_top=self.params.INCLUDE_TOP,\n",
    "            params_weights=self.params.WEIGHTS,\n",
    "            params_classes=self.params.CLASSES\n",
    "        )\n",
    "\n",
    "        return prepare_base_model_config"
   ]
  },
  {
   "cell_type": "code",
   "execution_count": 11,
   "metadata": {},
   "outputs": [
    {
     "name": "stdout",
     "output_type": "stream",
     "text": [
      "# packages in environment at e:\\Projects\\MLproject-2_Kidney-Disease-Classification\\kidney:\n",
      "#\n",
      "# Name                    Version                   Build  Channel\n",
      "absl-py                   2.1.0                    pypi_0    pypi\n",
      "asttokens                 2.4.1              pyhd8ed1ab_0    conda-forge\n",
      "astunparse                1.6.3                    pypi_0    pypi\n",
      "backcall                  0.2.0              pyh9f0ad1d_0    conda-forge\n",
      "beautifulsoup4            4.12.3                   pypi_0    pypi\n",
      "ca-certificates           2024.8.30            h56e8100_0    conda-forge\n",
      "cachetools                5.5.0                    pypi_0    pypi\n",
      "certifi                   2024.8.30                pypi_0    pypi\n",
      "charset-normalizer        3.4.0                    pypi_0    pypi\n",
      "colorama                  0.4.6              pyhd8ed1ab_0    conda-forge\n",
      "comm                      0.2.2              pyhd8ed1ab_0    conda-forge\n",
      "debugpy                   1.6.7            py38hd77b12b_0  \n",
      "decorator                 5.1.1              pyhd8ed1ab_0    conda-forge\n",
      "ensure                    1.0.4                    pypi_0    pypi\n",
      "executing                 2.1.0              pyhd8ed1ab_0    conda-forge\n",
      "filelock                  3.16.1                   pypi_0    pypi\n",
      "flatbuffers               24.3.25                  pypi_0    pypi\n",
      "gast                      0.4.0                    pypi_0    pypi\n",
      "gdown                     5.2.0                    pypi_0    pypi\n",
      "google-auth               2.36.0                   pypi_0    pypi\n",
      "google-auth-oauthlib      1.0.0                    pypi_0    pypi\n",
      "google-pasta              0.2.0                    pypi_0    pypi\n",
      "grpcio                    1.68.0                   pypi_0    pypi\n",
      "h5py                      3.11.0                   pypi_0    pypi\n",
      "idna                      3.10                     pypi_0    pypi\n",
      "importlib-metadata        8.5.0              pyha770c72_0    conda-forge\n",
      "ipykernel                 6.29.5             pyh4bbf305_0    conda-forge\n",
      "ipython                   8.12.0             pyh08f2357_0    conda-forge\n",
      "jax                       0.4.13                   pypi_0    pypi\n",
      "jedi                      0.18.2             pyhd8ed1ab_0    conda-forge\n",
      "joblib                    1.4.2                    pypi_0    pypi\n",
      "jupyter_client            8.6.3              pyhd8ed1ab_0    conda-forge\n",
      "jupyter_core              5.7.2            py38haa244fe_0    conda-forge\n",
      "keras                     2.12.0                   pypi_0    pypi\n",
      "libclang                  18.1.1                   pypi_0    pypi\n",
      "libffi                    3.4.4                hd77b12b_1  \n",
      "libsodium                 1.0.18               h8d14728_1    conda-forge\n",
      "markdown                  3.7                      pypi_0    pypi\n",
      "markupsafe                2.1.5                    pypi_0    pypi\n",
      "matplotlib-inline         0.1.7              pyhd8ed1ab_0    conda-forge\n",
      "ml-dtypes                 0.2.0                    pypi_0    pypi\n",
      "nest-asyncio              1.6.0              pyhd8ed1ab_0    conda-forge\n",
      "numpy                     1.23.5                   pypi_0    pypi\n",
      "oauthlib                  3.2.2                    pypi_0    pypi\n",
      "openssl                   3.0.15               h827c3e9_0  \n",
      "opt-einsum                3.4.0                    pypi_0    pypi\n",
      "packaging                 24.2               pyhff2d567_1    conda-forge\n",
      "parso                     0.8.4              pyhd8ed1ab_0    conda-forge\n",
      "pickleshare               0.7.5                   py_1003    conda-forge\n",
      "pip                       24.2             py38haa95532_0  \n",
      "platformdirs              4.3.6              pyhd8ed1ab_0    conda-forge\n",
      "prompt-toolkit            3.0.48             pyha770c72_0    conda-forge\n",
      "prompt_toolkit            3.0.48               hd8ed1ab_0    conda-forge\n",
      "protobuf                  4.25.5                   pypi_0    pypi\n",
      "psutil                    5.9.0            py38h2bbff1b_0  \n",
      "pure_eval                 0.2.3              pyhd8ed1ab_0    conda-forge\n",
      "pyasn1                    0.6.1                    pypi_0    pypi\n",
      "pyasn1-modules            0.4.1                    pypi_0    pypi\n",
      "pygments                  2.18.0             pyhd8ed1ab_0    conda-forge\n",
      "pysocks                   1.7.1                    pypi_0    pypi\n",
      "python                    3.8.20               h8205438_0  \n",
      "python-box                7.2.0                    pypi_0    pypi\n",
      "python-dateutil           2.8.2              pyhd8ed1ab_0    conda-forge\n",
      "python_abi                3.8                      2_cp38    conda-forge\n",
      "pywin32                   305              py38h2bbff1b_0  \n",
      "pyyaml                    6.0.2                    pypi_0    pypi\n",
      "pyzmq                     24.0.1           py38ha85f68a_1    conda-forge\n",
      "requests                  2.32.3                   pypi_0    pypi\n",
      "requests-oauthlib         2.0.0                    pypi_0    pypi\n",
      "reusables                 0.9.6                    pypi_0    pypi\n",
      "rsa                       4.9                      pypi_0    pypi\n",
      "scipy                     1.10.1                   pypi_0    pypi\n",
      "setuptools                75.1.0           py38haa95532_0  \n",
      "six                       1.16.0             pyh6c4a22f_0    conda-forge\n",
      "soupsieve                 2.6                      pypi_0    pypi\n",
      "sqlite                    3.45.3               h2bbff1b_0  \n",
      "stack_data                0.6.2              pyhd8ed1ab_0    conda-forge\n",
      "tensorboard               2.12.3                   pypi_0    pypi\n",
      "tensorboard-data-server   0.7.2                    pypi_0    pypi\n",
      "tensorflow                2.12.0                   pypi_0    pypi\n",
      "tensorflow-estimator      2.12.0                   pypi_0    pypi\n",
      "tensorflow-intel          2.12.0                   pypi_0    pypi\n",
      "tensorflow-io-gcs-filesystem 0.31.0                   pypi_0    pypi\n",
      "termcolor                 2.4.0                    pypi_0    pypi\n",
      "tornado                   6.2              py38h91455d4_1    conda-forge\n",
      "tqdm                      4.67.1                   pypi_0    pypi\n",
      "traitlets                 5.14.3             pyhd8ed1ab_0    conda-forge\n",
      "typing_extensions         4.12.2             pyha770c72_0    conda-forge\n",
      "ucrt                      10.0.22621.0         h57928b3_1    conda-forge\n",
      "urllib3                   2.2.3                    pypi_0    pypi\n",
      "vc                        14.40                h2eaa2aa_1  \n",
      "vs2015_runtime            14.40.33807          h98bb1dd_1  \n",
      "wcwidth                   0.2.13             pyhd8ed1ab_0    conda-forge\n",
      "werkzeug                  3.0.6                    pypi_0    pypi\n",
      "wheel                     0.44.0           py38haa95532_0  \n",
      "wrapt                     1.14.1                   pypi_0    pypi\n",
      "zeromq                    4.3.4                h0e60522_1    conda-forge\n",
      "zipp                      3.21.0             pyhd8ed1ab_0    conda-forge\n"
     ]
    }
   ],
   "source": [
    "!conda list"
   ]
  },
  {
   "cell_type": "code",
   "execution_count": 12,
   "metadata": {},
   "outputs": [],
   "source": [
    "import os\n",
    "import urllib.request as request\n",
    "from zipfile import ZipFile\n",
    "import tensorflow as tf"
   ]
  },
  {
   "cell_type": "code",
   "execution_count": 13,
   "metadata": {},
   "outputs": [],
   "source": [
    "class PrepareBaseModel:\n",
    "    def __init__(self, config: PrepareBaseModelConfig):\n",
    "        self.config = config\n",
    "\n",
    "    \n",
    "    def get_base_model(self):\n",
    "        self.model = tf.keras.applications.vgg16.VGG16(\n",
    "            input_shape=self.config.params_image_size,\n",
    "            weights=self.config.params_weights,\n",
    "            include_top=self.config.params_include_top\n",
    "        )\n",
    "\n",
    "        self.save_model(path=self.config.base_model_path, model=self.model)\n",
    "\n",
    "    \n",
    "\n",
    "    @staticmethod\n",
    "    def _prepare_full_model(model, classes, freeze_all, freeze_till, learning_rate):\n",
    "        if freeze_all:\n",
    "            for layer in model.layers:\n",
    "                model.trainable = False\n",
    "        elif (freeze_till is not None) and (freeze_till > 0):\n",
    "            for layer in model.layers[:-freeze_till]:\n",
    "                model.trainable = False\n",
    "\n",
    "        flatten_in = tf.keras.layers.Flatten()(model.output)\n",
    "        prediction = tf.keras.layers.Dense(\n",
    "            units=classes,\n",
    "            activation=\"softmax\"\n",
    "        )(flatten_in)\n",
    "\n",
    "        full_model = tf.keras.models.Model(\n",
    "            inputs=model.input,\n",
    "            outputs=prediction\n",
    "        )\n",
    "\n",
    "        full_model.compile(\n",
    "            optimizer=tf.keras.optimizers.SGD(learning_rate=learning_rate),\n",
    "            loss=tf.keras.losses.CategoricalCrossentropy(),\n",
    "            metrics=[\"accuracy\"]\n",
    "        )\n",
    "\n",
    "        full_model.summary()\n",
    "        return full_model\n",
    "    \n",
    "    \n",
    "    def update_base_model(self):\n",
    "        self.full_model = self._prepare_full_model(\n",
    "            model=self.model,\n",
    "            classes=self.config.params_classes,\n",
    "            freeze_all=True,\n",
    "            freeze_till=None,\n",
    "            learning_rate=self.config.params_learning_rate\n",
    "        )\n",
    "\n",
    "        self.save_model(path=self.config.updated_base_model_path, model=self.full_model)\n",
    "\n",
    "    \n",
    "        \n",
    "    @staticmethod\n",
    "    def save_model(path: Path, model: tf.keras.Model):\n",
    "        model.save(path)\n",
    "\n"
   ]
  },
  {
   "cell_type": "code",
   "execution_count": 14,
   "metadata": {},
   "outputs": [
    {
     "name": "stdout",
     "output_type": "stream",
     "text": [
      "[2024-11-26 11:58:41,105: INFO: common: yaml file: config\\config.yaml loaded successfully]\n",
      "[2024-11-26 11:58:41,205: INFO: common: yaml file: params.yaml loaded successfully]\n",
      "[2024-11-26 11:58:41,299: INFO: common: created directory at: artifacts]\n",
      "[2024-11-26 11:58:41,367: INFO: common: created directory at: artifacts/prepare_base_model]\n",
      "[2024-11-26 11:58:50,669: WARNING: saving_utils: Compiled the loaded model, but the compiled metrics have yet to be built. `model.compile_metrics` will be empty until you train or evaluate the model.]\n",
      "Model: \"model\"\n",
      "_________________________________________________________________\n",
      " Layer (type)                Output Shape              Param #   \n",
      "=================================================================\n",
      " input_1 (InputLayer)        [(None, 224, 224, 3)]     0         \n",
      "                                                                 \n",
      " block1_conv1 (Conv2D)       (None, 224, 224, 64)      1792      \n",
      "                                                                 \n",
      " block1_conv2 (Conv2D)       (None, 224, 224, 64)      36928     \n",
      "                                                                 \n",
      " block1_pool (MaxPooling2D)  (None, 112, 112, 64)      0         \n",
      "                                                                 \n",
      " block2_conv1 (Conv2D)       (None, 112, 112, 128)     73856     \n",
      "                                                                 \n",
      " block2_conv2 (Conv2D)       (None, 112, 112, 128)     147584    \n",
      "                                                                 \n",
      " block2_pool (MaxPooling2D)  (None, 56, 56, 128)       0         \n",
      "                                                                 \n",
      " block3_conv1 (Conv2D)       (None, 56, 56, 256)       295168    \n",
      "                                                                 \n",
      " block3_conv2 (Conv2D)       (None, 56, 56, 256)       590080    \n",
      "                                                                 \n",
      " block3_conv3 (Conv2D)       (None, 56, 56, 256)       590080    \n",
      "                                                                 \n",
      " block3_pool (MaxPooling2D)  (None, 28, 28, 256)       0         \n",
      "                                                                 \n",
      " block4_conv1 (Conv2D)       (None, 28, 28, 512)       1180160   \n",
      "                                                                 \n",
      " block4_conv2 (Conv2D)       (None, 28, 28, 512)       2359808   \n",
      "                                                                 \n",
      " block4_conv3 (Conv2D)       (None, 28, 28, 512)       2359808   \n",
      "                                                                 \n",
      " block4_pool (MaxPooling2D)  (None, 14, 14, 512)       0         \n",
      "                                                                 \n",
      " block5_conv1 (Conv2D)       (None, 14, 14, 512)       2359808   \n",
      "                                                                 \n",
      " block5_conv2 (Conv2D)       (None, 14, 14, 512)       2359808   \n",
      "                                                                 \n",
      " block5_conv3 (Conv2D)       (None, 14, 14, 512)       2359808   \n",
      "                                                                 \n",
      " block5_pool (MaxPooling2D)  (None, 7, 7, 512)         0         \n",
      "                                                                 \n",
      " flatten (Flatten)           (None, 25088)             0         \n",
      "                                                                 \n",
      " dense (Dense)               (None, 2)                 50178     \n",
      "                                                                 \n",
      "=================================================================\n",
      "Total params: 14,764,866\n",
      "Trainable params: 50,178\n",
      "Non-trainable params: 14,714,688\n",
      "_________________________________________________________________\n"
     ]
    }
   ],
   "source": [
    "try:\n",
    "    config = ConfigurationManager()\n",
    "    prepare_base_model_config = config.get_prepare_base_model_config()\n",
    "    prepare_base_model = PrepareBaseModel(config=prepare_base_model_config)\n",
    "    prepare_base_model.get_base_model()\n",
    "    prepare_base_model.update_base_model()\n",
    "except Exception as e:\n",
    "    raise e"
   ]
  },
  {
   "cell_type": "code",
   "execution_count": null,
   "metadata": {},
   "outputs": [],
   "source": []
  }
 ],
 "metadata": {
  "kernelspec": {
   "display_name": "Python 3",
   "language": "python",
   "name": "python3"
  },
  "language_info": {
   "codemirror_mode": {
    "name": "ipython",
    "version": 3
   },
   "file_extension": ".py",
   "mimetype": "text/x-python",
   "name": "python",
   "nbconvert_exporter": "python",
   "pygments_lexer": "ipython3",
   "version": "3.8.20"
  },
  "orig_nbformat": 4
 },
 "nbformat": 4,
 "nbformat_minor": 2
}
